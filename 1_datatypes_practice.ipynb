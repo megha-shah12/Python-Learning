{
 "cells": [
  {
   "cell_type": "markdown",
   "id": "freelance-chorus",
   "metadata": {},
   "source": [
    "## Getting Started:\n",
    "\n"
   ]
  },
  {
   "cell_type": "code",
   "execution_count": 2,
   "id": "level-purse",
   "metadata": {},
   "outputs": [
    {
     "name": "stdout",
     "output_type": "stream",
     "text": [
      "3.8.6 (tags/v3.8.6:db45529, Sep 23 2020, 15:52:53) [MSC v.1927 64 bit (AMD64)]\n"
     ]
    }
   ],
   "source": [
    "# Python version \n",
    "import sys\n",
    "print (sys.version)"
   ]
  },
  {
   "cell_type": "code",
   "execution_count": 3,
   "id": "conventional-shakespeare",
   "metadata": {},
   "outputs": [
    {
     "data": {
      "text/plain": [
       "'3.8.6'"
      ]
     },
     "execution_count": 3,
     "metadata": {},
     "output_type": "execute_result"
    }
   ],
   "source": [
    "import platform\n",
    "platform.python_version()"
   ]
  },
  {
   "cell_type": "markdown",
   "id": "speaking-equality",
   "metadata": {},
   "source": [
    "## Data types\n",
    "1. Integer \n",
    "2. Float\n",
    "3. Complex\n",
    "4. Boolean\n",
    "5. String"
   ]
  },
  {
   "cell_type": "code",
   "execution_count": 9,
   "id": "unnecessary-italic",
   "metadata": {},
   "outputs": [
    {
     "name": "stdout",
     "output_type": "stream",
     "text": [
      "<class 'int'>\n",
      "<class 'float'>\n",
      "<class 'complex'>\n",
      "<class 'bool'>\n",
      "<class 'str'>\n"
     ]
    }
   ],
   "source": [
    "a=10\n",
    "print(type(a))\n",
    "b=2.22\n",
    "print(type(b))\n",
    "c=5+8j\n",
    "print(type(c))\n",
    "d=True\n",
    "print(type(d))\n",
    "e=\"python string\"\n",
    "print(type(e))"
   ]
  },
  {
   "cell_type": "code",
   "execution_count": 5,
   "id": "accomplished-score",
   "metadata": {},
   "outputs": [
    {
     "name": "stdout",
     "output_type": "stream",
     "text": [
      "3.4787\n"
     ]
    }
   ],
   "source": [
    "float_num =3.4787\n",
    "print (float_num)"
   ]
  },
  {
   "cell_type": "code",
   "execution_count": 6,
   "id": "western-stationery",
   "metadata": {},
   "outputs": [
    {
     "data": {
      "text/plain": [
       "3"
      ]
     },
     "execution_count": 6,
     "metadata": {},
     "output_type": "execute_result"
    }
   ],
   "source": [
    "#type cast to integer\n",
    "int(float_num)"
   ]
  },
  {
   "cell_type": "code",
   "execution_count": 7,
   "id": "affected-charlotte",
   "metadata": {},
   "outputs": [
    {
     "data": {
      "text/plain": [
       "'3.4787'"
      ]
     },
     "execution_count": 7,
     "metadata": {},
     "output_type": "execute_result"
    }
   ],
   "source": [
    "#type cast to string value\n",
    "str(float_num)"
   ]
  },
  {
   "cell_type": "code",
   "execution_count": 11,
   "id": "impressed-washer",
   "metadata": {},
   "outputs": [
    {
     "name": "stdout",
     "output_type": "stream",
     "text": [
      "None\n"
     ]
    },
    {
     "data": {
      "text/plain": [
       "NoneType"
      ]
     },
     "execution_count": 11,
     "metadata": {},
     "output_type": "execute_result"
    }
   ],
   "source": [
    "num_x=None\n",
    "print (num_x)\n",
    "type(num_x)"
   ]
  },
  {
   "cell_type": "code",
   "execution_count": 12,
   "id": "invisible-evans",
   "metadata": {},
   "outputs": [
    {
     "data": {
      "text/plain": [
       "True"
      ]
     },
     "execution_count": 12,
     "metadata": {},
     "output_type": "execute_result"
    }
   ],
   "source": [
    "num_x is None"
   ]
  },
  {
   "cell_type": "code",
   "execution_count": 13,
   "id": "effective-accessory",
   "metadata": {},
   "outputs": [
    {
     "name": "stderr",
     "output_type": "stream",
     "text": [
      "<>:1: SyntaxWarning: \"is\" with a literal. Did you mean \"==\"?\n",
      "<>:1: SyntaxWarning: \"is\" with a literal. Did you mean \"==\"?\n",
      "<ipython-input-13-73c142034e79>:1: SyntaxWarning: \"is\" with a literal. Did you mean \"==\"?\n",
      "  num_x is 10\n"
     ]
    },
    {
     "data": {
      "text/plain": [
       "False"
      ]
     },
     "execution_count": 13,
     "metadata": {},
     "output_type": "execute_result"
    }
   ],
   "source": [
    "num_x is 10"
   ]
  },
  {
   "cell_type": "code",
   "execution_count": 14,
   "id": "starting-idaho",
   "metadata": {},
   "outputs": [
    {
     "name": "stdout",
     "output_type": "stream",
     "text": [
      "my name is megha\n",
      "i am learning python\n"
     ]
    }
   ],
   "source": [
    "string_one='my name is megha' #with single quote\n",
    "print(string_one)\n",
    "string_two =\"i am learning python\" #with double quote\n",
    "print(string_two)"
   ]
  },
  {
   "cell_type": "code",
   "execution_count": 31,
   "id": "legitimate-daisy",
   "metadata": {},
   "outputs": [
    {
     "name": "stdout",
     "output_type": "stream",
     "text": [
      "Enter Your Name: Megha\n"
     ]
    }
   ],
   "source": [
    "#ask the user for input\n",
    "# input will always in string form \n",
    "name = input(\"Enter Your Name: \")"
   ]
  },
  {
   "cell_type": "code",
   "execution_count": 59,
   "id": "western-shoulder",
   "metadata": {},
   "outputs": [
    {
     "name": "stdout",
     "output_type": "stream",
     "text": [
      "What...is Your Age?\n",
      "23\n"
     ]
    }
   ],
   "source": [
    "Age= input(\"What...is Your Age?\\n\")"
   ]
  },
  {
   "cell_type": "code",
   "execution_count": 60,
   "id": "recognized-acceptance",
   "metadata": {},
   "outputs": [
    {
     "data": {
      "text/plain": [
       "str"
      ]
     },
     "execution_count": 60,
     "metadata": {},
     "output_type": "execute_result"
    }
   ],
   "source": [
    "type(Age)"
   ]
  },
  {
   "cell_type": "code",
   "execution_count": 62,
   "id": "massive-yemen",
   "metadata": {},
   "outputs": [
    {
     "name": "stdout",
     "output_type": "stream",
     "text": [
      "What...is Your Age?\n",
      "25\n"
     ]
    }
   ],
   "source": [
    "Age= int(input(\"What...is Your Age?\\n\"))"
   ]
  },
  {
   "cell_type": "code",
   "execution_count": 63,
   "id": "editorial-collins",
   "metadata": {},
   "outputs": [
    {
     "data": {
      "text/plain": [
       "int"
      ]
     },
     "execution_count": 63,
     "metadata": {},
     "output_type": "execute_result"
    }
   ],
   "source": [
    "type(Age)"
   ]
  },
  {
   "cell_type": "markdown",
   "id": "third-collective",
   "metadata": {},
   "source": [
    "## Mathematical operation"
   ]
  },
  {
   "cell_type": "code",
   "execution_count": 4,
   "id": "every-publisher",
   "metadata": {},
   "outputs": [
    {
     "name": "stdout",
     "output_type": "stream",
     "text": [
      "<module 'math' (built-in)>\n"
     ]
    }
   ],
   "source": [
    "import math\n",
    "print (math)"
   ]
  },
  {
   "cell_type": "code",
   "execution_count": 15,
   "id": "employed-philip",
   "metadata": {},
   "outputs": [
    {
     "data": {
      "text/plain": [
       "54"
      ]
     },
     "execution_count": 15,
     "metadata": {},
     "output_type": "execute_result"
    }
   ],
   "source": [
    "# Addition\n",
    "34+20\n",
    "#substraction\n",
    "34-20"
   ]
  },
  {
   "cell_type": "code",
   "execution_count": 20,
   "id": "responsible-clinton",
   "metadata": {},
   "outputs": [
    {
     "name": "stdout",
     "output_type": "stream",
     "text": [
      "44\n"
     ]
    }
   ],
   "source": [
    "x = 43\n",
    "x = x + 1\n",
    "print(x)"
   ]
  },
  {
   "cell_type": "code",
   "execution_count": 17,
   "id": "greek-fleet",
   "metadata": {},
   "outputs": [
    {
     "data": {
      "text/plain": [
       "640"
      ]
     },
     "execution_count": 17,
     "metadata": {},
     "output_type": "execute_result"
    }
   ],
   "source": [
    "#Multiplication \n",
    "32*20"
   ]
  },
  {
   "cell_type": "code",
   "execution_count": 3,
   "id": "demonstrated-concentrate",
   "metadata": {},
   "outputs": [
    {
     "name": "stdout",
     "output_type": "stream",
     "text": [
      "6\n"
     ]
    }
   ],
   "source": [
    "x=3\n",
    "x*=2\n",
    "print(x)"
   ]
  },
  {
   "cell_type": "code",
   "execution_count": 25,
   "id": "portuguese-officer",
   "metadata": {},
   "outputs": [
    {
     "name": "stdout",
     "output_type": "stream",
     "text": [
      "6\n",
      "6.0\n",
      "6.0\n",
      "6.0\n"
     ]
    }
   ],
   "source": [
    "print(2 * 3)\n",
    "print(2 * 3.)\n",
    "print(2. * 3)\n",
    "print(2. * 3.)"
   ]
  },
  {
   "cell_type": "code",
   "execution_count": 18,
   "id": "swedish-payroll",
   "metadata": {},
   "outputs": [
    {
     "data": {
      "text/plain": [
       "2.3333333333333335"
      ]
     },
     "execution_count": 18,
     "metadata": {},
     "output_type": "execute_result"
    }
   ],
   "source": [
    "#Division\n",
    "7/3"
   ]
  },
  {
   "cell_type": "code",
   "execution_count": 19,
   "id": "republican-cheese",
   "metadata": {},
   "outputs": [
    {
     "name": "stdout",
     "output_type": "stream",
     "text": [
      "2\n",
      "1\n"
     ]
    }
   ],
   "source": [
    "quotient = 7 // 3\n",
    "print(quotient)\n",
    "reminder = 7%3\n",
    "print(reminder)"
   ]
  },
  {
   "cell_type": "code",
   "execution_count": 8,
   "id": "effective-tunnel",
   "metadata": {},
   "outputs": [
    {
     "name": "stdout",
     "output_type": "stream",
     "text": [
      "5.0\n"
     ]
    }
   ],
   "source": [
    "x = 1 + 2 * 3 - 8 / 4\n",
    "print(x)"
   ]
  },
  {
   "cell_type": "code",
   "execution_count": 9,
   "id": "approved-reality",
   "metadata": {},
   "outputs": [
    {
     "name": "stdout",
     "output_type": "stream",
     "text": [
      "9\n"
     ]
    }
   ],
   "source": [
    "a=int(9.8)\n",
    "print(a)"
   ]
  },
  {
   "cell_type": "code",
   "execution_count": 27,
   "id": "continued-mirror",
   "metadata": {},
   "outputs": [
    {
     "name": "stdout",
     "output_type": "stream",
     "text": [
      "-2\n",
      "-2.0\n",
      "-1.5\n",
      "-1.5\n"
     ]
    }
   ],
   "source": [
    "print(-6 // 4)\n",
    "print(6. // -4)\n",
    "print(-6 /4)\n",
    "print(6 / -4)"
   ]
  },
  {
   "cell_type": "code",
   "execution_count": 26,
   "id": "executive-textbook",
   "metadata": {},
   "outputs": [
    {
     "name": "stdout",
     "output_type": "stream",
     "text": [
      "8\n",
      "8.0\n",
      "8.0\n",
      "8.0\n",
      "256\n"
     ]
    }
   ],
   "source": [
    "# 2 power of 3\n",
    "print(2 ** 3)\n",
    "print(2 ** 3.)\n",
    "print(2. ** 3)\n",
    "print(2. ** 3.)\n",
    "print(2 ** 2 ** 3)"
   ]
  },
  {
   "cell_type": "code",
   "execution_count": 28,
   "id": "sufficient-portuguese",
   "metadata": {},
   "outputs": [
    {
     "name": "stdout",
     "output_type": "stream",
     "text": [
      "3.0\n"
     ]
    }
   ],
   "source": [
    "#make use of the ** operator to evaluate the square root as: √ (x)  = x(½)\n",
    "# square root of 9 \n",
    "print (9**0.5)"
   ]
  },
  {
   "cell_type": "code",
   "execution_count": 29,
   "id": "informative-devon",
   "metadata": {},
   "outputs": [
    {
     "name": "stdout",
     "output_type": "stream",
     "text": [
      "c = 5.0\n"
     ]
    }
   ],
   "source": [
    "#c = √ a2 + b2 \n",
    "a = 3.0\n",
    "b = 4.0\n",
    "c = (a ** 2 + b ** 2) ** 0.5\n",
    "print(\"c =\", c)"
   ]
  },
  {
   "cell_type": "code",
   "execution_count": 21,
   "id": "loaded-terrorist",
   "metadata": {},
   "outputs": [
    {
     "name": "stdout",
     "output_type": "stream",
     "text": [
      "83\n"
     ]
    }
   ],
   "source": [
    "#print octal number \n",
    "#If an integer number is preceded by an 0O or 0o prefix (zero-o), it will be treated as an octal value.\n",
    "print(0o123)"
   ]
  },
  {
   "cell_type": "code",
   "execution_count": 22,
   "id": "federal-embassy",
   "metadata": {},
   "outputs": [
    {
     "name": "stdout",
     "output_type": "stream",
     "text": [
      "291\n"
     ]
    }
   ],
   "source": [
    "#print hexadecimal number \n",
    "#If an integer number is preceded by an 0Xor 0xprefix (zero-x, it will be treated as an hexadecimal value\n",
    "print(0x123)"
   ]
  },
  {
   "cell_type": "code",
   "execution_count": 23,
   "id": "previous-luther",
   "metadata": {},
   "outputs": [
    {
     "name": "stdout",
     "output_type": "stream",
     "text": [
      "1e-22\n"
     ]
    }
   ],
   "source": [
    "print(0.0000000000000000000001)"
   ]
  },
  {
   "cell_type": "code",
   "execution_count": 24,
   "id": "agreed-luxury",
   "metadata": {},
   "outputs": [
    {
     "name": "stdout",
     "output_type": "stream",
     "text": [
      "6.62607e-34\n"
     ]
    }
   ],
   "source": [
    "print(6.62607E-34)"
   ]
  },
  {
   "cell_type": "markdown",
   "id": "greek-norfolk",
   "metadata": {},
   "source": [
    "## String Operation "
   ]
  },
  {
   "cell_type": "code",
   "execution_count": 36,
   "id": "received-magic",
   "metadata": {},
   "outputs": [
    {
     "name": "stdout",
     "output_type": "stream",
     "text": [
      "H_E_L_L_o Megha"
     ]
    }
   ],
   "source": [
    "print(\"H\",\"E\",\"L\",\"L\",\"o\",sep=\"_\",end=\" Megha\")"
   ]
  },
  {
   "cell_type": "code",
   "execution_count": 37,
   "id": "selective-samoa",
   "metadata": {},
   "outputs": [
    {
     "name": "stdout",
     "output_type": "stream",
     "text": [
      "I like \"Monty Python\"\n"
     ]
    }
   ],
   "source": [
    "print(\"I like \\\"Monty Python\\\"\")"
   ]
  },
  {
   "cell_type": "code",
   "execution_count": 38,
   "id": "valid-cambodia",
   "metadata": {},
   "outputs": [
    {
     "name": "stdout",
     "output_type": "stream",
     "text": [
      "I'm Monty Python.\n"
     ]
    }
   ],
   "source": [
    "print('I\\'m Monty Python.')"
   ]
  },
  {
   "cell_type": "code",
   "execution_count": 39,
   "id": "liberal-summer",
   "metadata": {},
   "outputs": [
    {
     "name": "stdout",
     "output_type": "stream",
     "text": [
      "\"I'm\"\n",
      "\"\"learning\"\"\n",
      "\"\"\"python\"\"\"\n"
     ]
    }
   ],
   "source": [
    "print(\"\\\"I'm\\\"\")\n",
    "print('\"\"learning\"\"')\n",
    "print('\"\"\"python\"\"\"')"
   ]
  },
  {
   "cell_type": "code",
   "execution_count": 45,
   "id": "headed-complex",
   "metadata": {},
   "outputs": [
    {
     "name": "stdout",
     "output_type": "stream",
     "text": [
      "Megha Shah\n"
     ]
    }
   ],
   "source": [
    "#Addition of string\n",
    "first = 'Megha '\n",
    "second = 'Shah'\n",
    "print(first + second)"
   ]
  },
  {
   "cell_type": "code",
   "execution_count": 46,
   "id": "useful-spirituality",
   "metadata": {},
   "outputs": [
    {
     "name": "stdout",
     "output_type": "stream",
     "text": [
      "100150\n"
     ]
    }
   ],
   "source": [
    "first = '100'\n",
    "second = '150'\n",
    "print(first + second)"
   ]
  },
  {
   "cell_type": "code",
   "execution_count": 6,
   "id": "healthy-ready",
   "metadata": {},
   "outputs": [
    {
     "name": "stdout",
     "output_type": "stream",
     "text": [
      "123abc\n"
     ]
    }
   ],
   "source": [
    "print(\"123\" + \"abc\")"
   ]
  },
  {
   "cell_type": "code",
   "execution_count": 65,
   "id": "enclosed-discovery",
   "metadata": {},
   "outputs": [
    {
     "name": "stdout",
     "output_type": "stream",
     "text": [
      "Python Python Python \n"
     ]
    }
   ],
   "source": [
    "#multiplication of string\n",
    "first = 'Python '\n",
    "second = 3\n",
    "print(first * second)"
   ]
  },
  {
   "cell_type": "code",
   "execution_count": 2,
   "id": "formed-oriental",
   "metadata": {},
   "outputs": [
    {
     "data": {
      "text/plain": [
       "19"
      ]
     },
     "execution_count": 2,
     "metadata": {},
     "output_type": "execute_result"
    }
   ],
   "source": [
    "#find the length of string using len function\n",
    "string1 = \"Python for Everyone\"\n",
    "length_string1 =len(string1)\n",
    "length_string1"
   ]
  },
  {
   "cell_type": "markdown",
   "id": "everyday-meter",
   "metadata": {},
   "source": [
    "## Boolean operation "
   ]
  },
  {
   "cell_type": "code",
   "execution_count": 51,
   "id": "figured-stake",
   "metadata": {},
   "outputs": [
    {
     "name": "stdout",
     "output_type": "stream",
     "text": [
      "True\n"
     ]
    }
   ],
   "source": [
    "print(3>2)"
   ]
  },
  {
   "cell_type": "code",
   "execution_count": 52,
   "id": "arbitrary-current",
   "metadata": {},
   "outputs": [
    {
     "name": "stdout",
     "output_type": "stream",
     "text": [
      "False\n"
     ]
    }
   ],
   "source": [
    "print(a>3)"
   ]
  },
  {
   "cell_type": "code",
   "execution_count": 57,
   "id": "august-meter",
   "metadata": {},
   "outputs": [
    {
     "name": "stdout",
     "output_type": "stream",
     "text": [
      "False\n",
      "True\n",
      "True\n"
     ]
    }
   ],
   "source": [
    "print(3==4)\n",
    "print(3!=4)\n",
    "print(3>=3)"
   ]
  },
  {
   "cell_type": "code",
   "execution_count": 5,
   "id": "emerging-investigator",
   "metadata": {},
   "outputs": [
    {
     "name": "stdout",
     "output_type": "stream",
     "text": [
      "False\n"
     ]
    }
   ],
   "source": [
    "A = 10\n",
    "\n",
    "B = 10\n",
    "\n",
    "result = A!=B\n",
    "\n",
    "print(result)"
   ]
  },
  {
   "cell_type": "code",
   "execution_count": 50,
   "id": "textile-fundamentals",
   "metadata": {},
   "outputs": [
    {
     "name": "stdout",
     "output_type": "stream",
     "text": [
      "True\n",
      "False\n"
     ]
    }
   ],
   "source": [
    "print(True > False)\n",
    "print(True < False)"
   ]
  },
  {
   "cell_type": "code",
   "execution_count": 11,
   "id": "devoted-pioneer",
   "metadata": {},
   "outputs": [
    {
     "name": "stdout",
     "output_type": "stream",
     "text": [
      "8\n",
      "9\n",
      "2\n"
     ]
    }
   ],
   "source": [
    "a=9\n",
    "b=8\n",
    "c=0\n",
    "c=a&b\n",
    "print(c)\n",
    "c=a|b\n",
    "print(c)\n",
    "c=a>>2 #shift right\n",
    "print(c)"
   ]
  },
  {
   "cell_type": "code",
   "execution_count": 10,
   "id": "latest-neighborhood",
   "metadata": {},
   "outputs": [
    {
     "name": "stdout",
     "output_type": "stream",
     "text": [
      "4\n",
      "5\n",
      "-5\n",
      "1\n"
     ]
    }
   ],
   "source": [
    "#program on Python Bitwise Operators ?\n",
    "# 4=0100 \n",
    "# 5=0101\n",
    "\n",
    "print(4&5)  \n",
    "print(4|5)\n",
    "print(~4)\n",
    "print(4^5)"
   ]
  },
  {
   "cell_type": "code",
   "execution_count": 1,
   "id": "exposed-relations",
   "metadata": {},
   "outputs": [
    {
     "name": "stdout",
     "output_type": "stream",
     "text": [
      "0 5 -5 1 1 16\n"
     ]
    }
   ],
   "source": [
    "x = 4\n",
    "y = 1\n",
    "\n",
    "a = x & y\n",
    "b = x | y\n",
    "c = ~x\n",
    "d = x ^ 5\n",
    "e = x >> 2\n",
    "f = x << 2\n",
    "\n",
    "print(a, b, c, d, e, f)"
   ]
  },
  {
   "cell_type": "markdown",
   "id": "alien-vegetable",
   "metadata": {},
   "source": [
    "## programme practice: "
   ]
  },
  {
   "cell_type": "code",
   "execution_count": 48,
   "id": "affected-payroll",
   "metadata": {},
   "outputs": [
    {
     "name": "stdout",
     "output_type": "stream",
     "text": [
      "75.0\n"
     ]
    }
   ],
   "source": [
    "# compute the percentage of the hour that has elapsed\n",
    "minute = 45\n",
    "percentage = (minute * 100) / 60\n",
    "print(percentage)"
   ]
  },
  {
   "cell_type": "code",
   "execution_count": 40,
   "id": "beginning-solomon",
   "metadata": {},
   "outputs": [
    {
     "name": "stdout",
     "output_type": "stream",
     "text": [
      "7.38 miles is 11.88 kilometers\n",
      "12.25 kilometers is 7.61 miles\n"
     ]
    }
   ],
   "source": [
    "#convert miles from kelometers and vice versa \n",
    "#1 mile= 1.61 km\n",
    "kilometers = 12.25\n",
    "miles = 7.38\n",
    "\n",
    "miles_to_kilometers = miles*1.61\n",
    "kilometers_to_miles = kilometers/1.61\n",
    "\n",
    "print(miles, \"miles is\", round(miles_to_kilometers, 2), \"kilometers\")\n",
    "print(kilometers, \"kilometers is\", round(kilometers_to_miles, 2), \"miles\")"
   ]
  },
  {
   "cell_type": "code",
   "execution_count": 12,
   "id": "moral-witness",
   "metadata": {},
   "outputs": [
    {
     "name": "stdout",
     "output_type": "stream",
     "text": [
      "10 20\n",
      "a = 20\n",
      "b = 10\n"
     ]
    }
   ],
   "source": [
    "#swap variables \n",
    "a=10\n",
    "b=20\n",
    "print(a,b)\n",
    "a,b=b,a\n",
    "print(\"a =\",a)\n",
    "print(\"b =\",b)"
   ]
  },
  {
   "cell_type": "code",
   "execution_count": 41,
   "id": "historical-attendance",
   "metadata": {},
   "outputs": [
    {
     "name": "stdout",
     "output_type": "stream",
     "text": [
      "Enter value for x: 5\n",
      "y = 0.19258202567760344\n"
     ]
    }
   ],
   "source": [
    "x = float(input(\"Enter value for x: \"))\n",
    "\n",
    "# put your code here\n",
    "y = 1/(x+ 1/(x+1/(x+1/x)))\n",
    "\n",
    "print(\"y =\", y)"
   ]
  },
  {
   "cell_type": "code",
   "execution_count": 42,
   "id": "permanent-flexibility",
   "metadata": {},
   "outputs": [
    {
     "name": "stdout",
     "output_type": "stream",
     "text": [
      "Enter a number: 2\n",
      "55\n"
     ]
    }
   ],
   "source": [
    "x = int(input(\"Enter a number: \")) # the user enters 2\n",
    "print(x * \"5\")"
   ]
  },
  {
   "cell_type": "code",
   "execution_count": 43,
   "id": "excited-sheet",
   "metadata": {},
   "outputs": [
    {
     "name": "stdout",
     "output_type": "stream",
     "text": [
      "Enter a number: 2\n",
      "<class 'str'>\n"
     ]
    }
   ],
   "source": [
    "x = input(\"Enter a number: \") # the user enters 2\n",
    "print(type(x))"
   ]
  }
 ],
 "metadata": {
  "kernelspec": {
   "display_name": "Python 3.8.6 64-bit",
   "language": "python",
   "name": "python38664bit5c8339847ee24279a1dec18c5b1704d8"
  },
  "language_info": {
   "codemirror_mode": {
    "name": "ipython",
    "version": 3
   },
   "file_extension": ".py",
   "mimetype": "text/x-python",
   "name": "python",
   "nbconvert_exporter": "python",
   "pygments_lexer": "ipython3",
   "version": "3.8.6"
  }
 },
 "nbformat": 4,
 "nbformat_minor": 5
}
